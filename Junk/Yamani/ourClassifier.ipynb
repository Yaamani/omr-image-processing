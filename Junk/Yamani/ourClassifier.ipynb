{
 "metadata": {
  "language_info": {
   "codemirror_mode": {
    "name": "ipython",
    "version": 3
   },
   "file_extension": ".py",
   "mimetype": "text/x-python",
   "name": "python",
   "nbconvert_exporter": "python",
   "pygments_lexer": "ipython3",
   "version": "3.6.12-final"
  },
  "orig_nbformat": 2,
  "kernelspec": {
   "name": "python3",
   "display_name": "Python 3",
   "language": "python"
  }
 },
 "nbformat": 4,
 "nbformat_minor": 2,
 "cells": [
  {
   "cell_type": "code",
   "execution_count": 58,
   "metadata": {},
   "outputs": [],
   "source": [
    "import cv2\n",
    "from sklearn.neural_network import MLPClassifier  # MLP is an NN\n",
    "from sklearn.neighbors import KNeighborsClassifier\n",
    "from sklearn import svm\n",
    "from sklearn.model_selection import train_test_split\n",
    "import numpy as np\n",
    "import os\n",
    "from tqdm import tqdm\n",
    "import random\n",
    "import pickle"
   ]
  },
  {
   "cell_type": "code",
   "execution_count": 38,
   "metadata": {},
   "outputs": [],
   "source": [
    "def load_dataset():\n",
    "    imgs = []\n",
    "    labels = []\n",
    "    for cf in os.listdir(path_to_dataset):\n",
    "        try:\n",
    "            for fn in tqdm(os.listdir(path_to_dataset+'/'+cf), desc=cf):\n",
    "                img = cv2.imread(path_to_dataset+'/'+cf+'/'+fn)\n",
    "                imgs.append(img)\n",
    "                labels.append(cf)\n",
    "        except:\n",
    "            print('\\r'+cf+' Probably not a folder ....')\n",
    "    \n",
    "    return imgs, labels"
   ]
  },
  {
   "cell_type": "code",
   "execution_count": 39,
   "metadata": {},
   "outputs": [
    {
     "output_type": "stream",
     "name": "stderr",
     "text": [
      "augmentation_dot: 100%|██████████| 400/400 [00:00<00:00, 2094.63it/s]\n",
      "eighth_note: 100%|██████████| 800/800 [00:00<00:00, 2140.31it/s]\n",
      "treple_clef: 100%|██████████| 400/400 [00:00<00:00, 1718.74it/s]\n",
      "time_signature_2_4: 100%|██████████| 400/400 [00:00<00:00, 3010.92it/s]\n",
      ".DS_Store Probably not a folder ....\n",
      "whole_note: 100%|██████████| 400/400 [00:00<00:00, 1465.48it/s]\n",
      "flat_accidental: 100%|██████████| 400/400 [00:00<00:00, 3427.83it/s]\n",
      "natural_accidental: 100%|██████████| 400/400 [00:00<00:00, 2801.39it/s]\n",
      "sharp_accidental: 100%|██████████| 400/400 [00:00<00:00, 2364.39it/s]\n",
      "thirty_second_note: 100%|██████████| 800/800 [00:00<00:00, 2111.89it/s]\n",
      "quarter_note: 100%|██████████| 800/800 [00:00<00:00, 3023.81it/s]\n",
      "half_note: 100%|██████████| 800/800 [00:00<00:00, 4118.13it/s]\n",
      "time_signature_4_4: 100%|██████████| 400/400 [00:00<00:00, 1420.63it/s]\n",
      "sixtheenth_note: 100%|██████████| 800/800 [00:00<00:00, 3352.61it/s]\n",
      "double_sharp_accidental: 100%|██████████| 400/400 [00:00<00:00, 4542.76it/s]\n",
      "bar_line: 100%|██████████| 400/400 [00:00<00:00, 2271.46it/s]\n"
     ]
    }
   ],
   "source": [
    "imgs, labels = load_dataset()"
   ]
  },
  {
   "cell_type": "code",
   "execution_count": 50,
   "metadata": {},
   "outputs": [],
   "source": [
    "path_to_dataset = r'hand_written_symbols_dataset'\n",
    "target_img_size = (32, 32)\n",
    "\n",
    "random_seed = 42  \n",
    "random.seed(random_seed)\n",
    "np.random.seed(random_seed)"
   ]
  },
  {
   "cell_type": "code",
   "execution_count": 41,
   "metadata": {},
   "outputs": [],
   "source": [
    "def extract_raw_pixels(img):\n",
    "    \"\"\"\n",
    "    TODO\n",
    "    The classification algorithms we are going to use expect the input to be a vector not a matrix. \n",
    "    This is because they are general purpose and don't work only on images.\n",
    "    CNNs, on the other hand, expect matrices since they operate on images and exploit the \n",
    "    arrangement of pixels in the 2-D space.\n",
    "    \n",
    "    So, what we only need to do in this function is to resize and flatten the image.\n",
    "    \"\"\"\n",
    "    img = cv2.resize(img, target_img_size)\n",
    "    return img.flatten()"
   ]
  },
  {
   "cell_type": "code",
   "execution_count": 51,
   "metadata": {},
   "outputs": [],
   "source": [
    "def extract_hog_features(img):\n",
    "    \"\"\"\n",
    "    TODO\n",
    "    You won't implement anything in this function. You just need to understand it \n",
    "    and understand its parameters (i.e win_size, cell_size, ... etc)\n",
    "    \"\"\"\n",
    "    img = cv2.resize(img, target_img_size)\n",
    "    win_size = (32, 32)\n",
    "    cell_size = (4, 4)\n",
    "    block_size_in_cells = (2, 2)\n",
    "    \n",
    "    block_size = (block_size_in_cells[1] * cell_size[1], block_size_in_cells[0] * cell_size[0])\n",
    "    block_stride = (cell_size[1], cell_size[0])\n",
    "    nbins = 9  # Number of orientation bins\n",
    "    hog = cv2.HOGDescriptor(win_size, block_size, block_stride, cell_size, nbins)\n",
    "    h = hog.compute(img)\n",
    "    h = h.flatten()\n",
    "    return h.flatten()"
   ]
  },
  {
   "cell_type": "code",
   "execution_count": 52,
   "metadata": {},
   "outputs": [],
   "source": [
    "def extract_features(img, feature_set='hog'):\n",
    "    \"\"\"\n",
    "    TODO\n",
    "    Given either 'hog', 'raw', call the respective function and return its output\n",
    "    \"\"\"\n",
    "    if feature_set == 'hog':\n",
    "        return extract_hog_features(img)\n",
    "    elif feature_set == 'raw':\n",
    "        return extract_raw_pixels(img)"
   ]
  },
  {
   "cell_type": "code",
   "execution_count": 53,
   "metadata": {},
   "outputs": [],
   "source": [
    "def extract_features_for_all(imgs, feature_set='hog'):\n",
    "    features = []\n",
    "\n",
    "    for img in tqdm(imgs):\n",
    "        features.append(extract_features(img, feature_set))\n",
    "    \n",
    "    return features"
   ]
  },
  {
   "cell_type": "code",
   "execution_count": 54,
   "metadata": {},
   "outputs": [],
   "source": [
    "classifiers = {\n",
    "    'SVM': svm.LinearSVC(random_state=random_seed),\n",
    "    'KNN': KNeighborsClassifier(n_neighbors=7),\n",
    "    'NN': MLPClassifier(solver='sgd', random_state=random_seed, hidden_layer_sizes=(500,), max_iter=20, verbose=1)\n",
    "}"
   ]
  },
  {
   "cell_type": "code",
   "execution_count": 55,
   "metadata": {},
   "outputs": [
    {
     "output_type": "stream",
     "name": "stderr",
     "text": [
      "100%|██████████| 8000/8000 [00:01<00:00, 4536.14it/s]\n"
     ]
    }
   ],
   "source": [
    "features = extract_features_for_all(imgs, 'hog')"
   ]
  },
  {
   "cell_type": "code",
   "execution_count": 59,
   "metadata": {},
   "outputs": [],
   "source": [
    "# This function will test all our classifiers on a specific feature set\n",
    "def train(features, labels, model):\n",
    "    \n",
    "    # Since we don't want to know the performance of our classifier on images it has seen before\n",
    "    # we are going to withhold some images that we will test the classifier on after training \n",
    "    train_features, test_features, train_labels, test_labels = train_test_split(\n",
    "        features, labels, test_size=0.2, random_state=random_seed)\n",
    "    \n",
    "    print('Training .........')\n",
    "\n",
    "    # Train the model only on the training features\n",
    "    model.fit(train_features, train_labels)\n",
    "    \n",
    "    # Test the model on images it hasn't seen before\n",
    "    accuracy = model.score(test_features, test_labels)\n",
    "    \n",
    "    print('accuracy:', accuracy*100, '%')"
   ]
  },
  {
   "cell_type": "code",
   "execution_count": 60,
   "metadata": {},
   "outputs": [
    {
     "output_type": "stream",
     "name": "stdout",
     "text": [
      "Training .........\n",
      "accuracy: 82.75 %\n"
     ]
    }
   ],
   "source": [
    "model = train(features, labels, classifiers['SVM'])"
   ]
  },
  {
   "cell_type": "code",
   "execution_count": 64,
   "metadata": {},
   "outputs": [],
   "source": [
    "with open('svm.pkl', 'wb') as fid:\n",
    "    pickle.dump(model, fid)"
   ]
  },
  {
   "cell_type": "code",
   "execution_count": 61,
   "metadata": {},
   "outputs": [
    {
     "output_type": "stream",
     "text": [
      "\u001b[0;31mSignature:\u001b[0m \u001b[0mpickle\u001b[0m\u001b[0;34m.\u001b[0m\u001b[0mdumps\u001b[0m\u001b[0;34m(\u001b[0m\u001b[0mobj\u001b[0m\u001b[0;34m,\u001b[0m \u001b[0mprotocol\u001b[0m\u001b[0;34m=\u001b[0m\u001b[0;32mNone\u001b[0m\u001b[0;34m,\u001b[0m \u001b[0;34m*\u001b[0m\u001b[0;34m,\u001b[0m \u001b[0mfix_imports\u001b[0m\u001b[0;34m=\u001b[0m\u001b[0;32mTrue\u001b[0m\u001b[0;34m)\u001b[0m\u001b[0;34m\u001b[0m\u001b[0;34m\u001b[0m\u001b[0m\n",
      "\u001b[0;31mDocstring:\u001b[0m\n",
      "Return the pickled representation of the object as a bytes object.\n",
      "\n",
      "The optional *protocol* argument tells the pickler to use the given\n",
      "protocol; supported protocols are 0, 1, 2, 3 and 4.  The default\n",
      "protocol is 3; a backward-incompatible protocol designed for Python 3.\n",
      "\n",
      "Specifying a negative protocol version selects the highest protocol\n",
      "version supported.  The higher the protocol used, the more recent the\n",
      "version of Python needed to read the pickle produced.\n",
      "\n",
      "If *fix_imports* is True and *protocol* is less than 3, pickle will\n",
      "try to map the new Python 3 names to the old module names used in\n",
      "Python 2, so that the pickle data stream is readable with Python 2.\n",
      "\u001b[0;31mType:\u001b[0m      builtin_function_or_method\n"
     ],
     "name": "stdout"
    }
   ],
   "source": [
    "?pickle.dumps"
   ]
  },
  {
   "cell_type": "code",
   "execution_count": null,
   "metadata": {},
   "outputs": [],
   "source": []
  }
 ]
}